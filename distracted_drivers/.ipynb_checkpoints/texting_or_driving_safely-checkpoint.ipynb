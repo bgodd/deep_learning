{
 "cells": [
  {
   "cell_type": "code",
   "execution_count": null,
   "metadata": {
    "collapsed": true
   },
   "outputs": [],
   "source": [
    "This work follows along "
   ]
  },
  {
   "cell_type": "code",
   "execution_count": null,
   "metadata": {
    "collapsed": true
   },
   "outputs": [],
   "source": [
    "import keras\n",
    "keras.__version__"
   ]
  },
  {
   "cell_type": "markdown",
   "metadata": {},
   "source": [
    "# State Farm Distracted Driver Detection\n",
    "Can computer vision spot distracted drivers?"
   ]
  },
  {
   "cell_type": "markdown",
   "metadata": {},
   "source": [
    "# Training a convnet from scratch on a small dataset\n",
    " \n",
    "**Reduced Set of State Farm Distracted Driver Competition**\n",
    "\n",
    "State Farm setup a kaggle competition to detect distracted drivers that has a great collection of individuals driving \"safely\":\n",
    "\n",
    "![alt text](safe.jpg \"safe\")\n",
    "\n",
    "There is also a very large data set of drivers in various forms of distraction.  For this exploration, I chose to only concentrate on drivers that were texting:\n",
    "\n",
    "![alt text](texting.jpg \"text\")"
   ]
  },
  {
   "cell_type": "markdown",
   "metadata": {},
   "source": [
    "## Splitting the Project Between Local and Amazon Web Service Resources\n",
    "For setup, data cleaning, and initial model creation, most work was done locally.  When the model was ready to be trained heavily, the resources were moved to AWS web services to speed up processing by about 4-8 fold."
   ]
  },
  {
   "cell_type": "markdown",
   "metadata": {},
   "source": [
    "### Data Prep:"
   ]
  },
  {
   "cell_type": "code",
   "execution_count": 2,
   "metadata": {
    "collapsed": true
   },
   "outputs": [],
   "source": [
    "import os, shutil"
   ]
  },
  {
   "cell_type": "code",
   "execution_count": 38,
   "metadata": {
    "collapsed": true
   },
   "outputs": [],
   "source": [
    "# LOCAL SETTINGS\n",
    "\n",
    "with open('base_path.txt') as file:  \n",
    "    base_config = file.read() \n",
    "\n",
    "# The path to the directory where the original\n",
    "# dataset was uncompressed\n",
    "original_dataset_dir = base_config + '/deep_learning/image_classification/original_files'\n",
    "\n",
    "# The directory where we will\n",
    "# store our smaller dataset\n",
    "base_dir = base_config + '/deep_learning/image_classification/modified_files'\n",
    "os.mkdir(base_dir)"
   ]
  },
  {
   "cell_type": "markdown",
   "metadata": {},
   "source": [
    "### Setting up directories to store processed data"
   ]
  },
  {
   "cell_type": "code",
   "execution_count": 39,
   "metadata": {
    "collapsed": true
   },
   "outputs": [],
   "source": [
    "# Directories for our training,\n",
    "# validation and test splits\n",
    "train_dir = os.path.join(base_dir, 'train')\n",
    "os.mkdir(train_dir)\n",
    "validation_dir = os.path.join(base_dir, 'validation')\n",
    "os.mkdir(validation_dir)\n",
    "test_dir = os.path.join(base_dir, 'test')\n",
    "os.mkdir(test_dir)\n",
    "\n",
    "# Directory with our training texting pictures\n",
    "train_texting_dir = os.path.join(train_dir, 'texting')\n",
    "os.mkdir(train_texting_dir)\n",
    "\n",
    "# Directory with our training safe pictures\n",
    "train_safe_dir = os.path.join(train_dir, 'safe')\n",
    "os.mkdir(train_safe_dir)\n",
    "\n",
    "# Directory with our validation texting pictures\n",
    "validation_texting_dir = os.path.join(validation_dir, 'texting')\n",
    "os.mkdir(validation_texting_dir)\n",
    "\n",
    "# Directory with our validation safe pictures\n",
    "validation_safe_dir = os.path.join(validation_dir, 'safe')\n",
    "os.mkdir(validation_safe_dir)\n",
    "\n",
    "# Directory with our validation texting pictures\n",
    "test_texting_dir = os.path.join(test_dir, 'texting')\n",
    "os.mkdir(test_texting_dir)\n",
    "\n",
    "# Directory with our validation safe pictures\n",
    "test_safe_dir = os.path.join(test_dir, 'safe')\n",
    "os.mkdir(test_safe_dir)"
   ]
  },
  {
   "cell_type": "markdown",
   "metadata": {},
   "source": [
    "### Splitting data into training, validation, and test groups"
   ]
  },
  {
   "cell_type": "code",
   "execution_count": 40,
   "metadata": {
    "collapsed": true
   },
   "outputs": [],
   "source": [
    "# Copy first 1200 texting images to train_texting_dir\n",
    "fnames = ['texting.{}.jpg'.format(i+1) for i in range(1200)]\n",
    "for fname in fnames:\n",
    "    src = os.path.join(original_dataset_dir, fname)\n",
    "    dst = os.path.join(train_texting_dir, fname)\n",
    "    shutil.copyfile(src, dst)\n",
    "\n",
    "# Copy next 600 texting images to validation_texting_dir\n",
    "fnames = ['texting.{}.jpg'.format(i+1) for i in range(1200, 1800)]\n",
    "for fname in fnames:\n",
    "    src = os.path.join(original_dataset_dir, fname)\n",
    "    dst = os.path.join(validation_texting_dir, fname)\n",
    "    shutil.copyfile(src, dst)\n",
    "    \n",
    "# Copy next 600 texting images to test_texting_dir\n",
    "fnames = ['texting.{}.jpg'.format(i+1) for i in range(1800, 2400)]\n",
    "for fname in fnames:\n",
    "    src = os.path.join(original_dataset_dir, fname)\n",
    "    dst = os.path.join(test_texting_dir, fname)\n",
    "    shutil.copyfile(src, dst)\n",
    "    \n",
    "# Copy first 1200 safe images to train_safe_dir\n",
    "fnames = ['safe.{}.jpg'.format(i+1) for i in range(1200)]\n",
    "for fname in fnames:\n",
    "    src = os.path.join(original_dataset_dir, fname)\n",
    "    dst = os.path.join(train_safe_dir, fname)\n",
    "    shutil.copyfile(src, dst)\n",
    "    \n",
    "# Copy next 600 safe images to validation_safe_dir\n",
    "fnames = ['safe.{}.jpg'.format(i+1) for i in range(1200, 1800)]\n",
    "for fname in fnames:\n",
    "    src = os.path.join(original_dataset_dir, fname)\n",
    "    dst = os.path.join(validation_safe_dir, fname)\n",
    "    shutil.copyfile(src, dst)\n",
    "    \n",
    "# Copy next 600 safe images to test_safe_dir\n",
    "fnames = ['safe.{}.jpg'.format(i+1) for i in range(1800, 2400)]\n",
    "for fname in fnames:\n",
    "    src = os.path.join(original_dataset_dir, fname)\n",
    "    dst = os.path.join(test_safe_dir, fname)\n",
    "    shutil.copyfile(src, dst)"
   ]
  },
  {
   "cell_type": "markdown",
   "metadata": {},
   "source": [
    "### Resetting path information for use on AWS"
   ]
  },
  {
   "cell_type": "code",
   "execution_count": 3,
   "metadata": {
    "collapsed": true
   },
   "outputs": [],
   "source": [
    "##################\n",
    "##################\n",
    "## AWS SETTINGS ##\n",
    "##################\n",
    "##################\n",
    "\n",
    "base_dir = os.getcwd() + '/modified_files'\n",
    "train_dir = os.path.join(base_dir, 'train')\n",
    "validation_dir = os.path.join(base_dir, 'validation')\n",
    "test_dir = os.path.join(base_dir, 'test')\n",
    "\n",
    "# Directory with our training texting pictures\n",
    "train_texting_dir = os.path.join(train_dir, 'texting')\n",
    "\n",
    "# Directory with our training safe pictures\n",
    "train_safe_dir = os.path.join(train_dir, 'safe')\n",
    "\n",
    "# Directory with our validation texting pictures\n",
    "validation_texting_dir = os.path.join(validation_dir, 'texting')\n",
    "\n",
    "# Directory with our validation safe pictures\n",
    "validation_safe_dir = os.path.join(validation_dir, 'safe')\n",
    "\n",
    "# Directory with our validation texting pictures\n",
    "test_texting_dir = os.path.join(test_dir, 'texting')\n",
    "\n",
    "# Directory with our validation safe pictures\n",
    "test_safe_dir = os.path.join(test_dir, 'safe')\n"
   ]
  },
  {
   "cell_type": "markdown",
   "metadata": {},
   "source": [
    "### Confirming we moved what we said we were going to move"
   ]
  },
  {
   "cell_type": "code",
   "execution_count": 4,
   "metadata": {},
   "outputs": [
    {
     "name": "stdout",
     "output_type": "stream",
     "text": [
      "('total training texting images:', 1200)\n"
     ]
    }
   ],
   "source": [
    "print('total training texting images:', len(os.listdir(train_texting_dir)))"
   ]
  },
  {
   "cell_type": "code",
   "execution_count": 5,
   "metadata": {},
   "outputs": [
    {
     "name": "stdout",
     "output_type": "stream",
     "text": [
      "('total training safe images:', 1200)\n"
     ]
    }
   ],
   "source": [
    "print('total training safe images:', len(os.listdir(train_safe_dir)))"
   ]
  },
  {
   "cell_type": "code",
   "execution_count": 6,
   "metadata": {},
   "outputs": [
    {
     "name": "stdout",
     "output_type": "stream",
     "text": [
      "('total validation texting images:', 600)\n"
     ]
    }
   ],
   "source": [
    "print('total validation texting images:', len(os.listdir(validation_texting_dir)))"
   ]
  },
  {
   "cell_type": "code",
   "execution_count": 7,
   "metadata": {},
   "outputs": [
    {
     "name": "stdout",
     "output_type": "stream",
     "text": [
      "('total validation safe images:', 600)\n"
     ]
    }
   ],
   "source": [
    "print('total validation safe images:', len(os.listdir(validation_safe_dir)))"
   ]
  },
  {
   "cell_type": "code",
   "execution_count": 8,
   "metadata": {},
   "outputs": [
    {
     "name": "stdout",
     "output_type": "stream",
     "text": [
      "('total test texting images:', 600)\n"
     ]
    }
   ],
   "source": [
    "print('total test texting images:', len(os.listdir(test_texting_dir)))"
   ]
  },
  {
   "cell_type": "code",
   "execution_count": 9,
   "metadata": {},
   "outputs": [
    {
     "name": "stdout",
     "output_type": "stream",
     "text": [
      "('total test safe images:', 600)\n"
     ]
    }
   ],
   "source": [
    "print('total test safe images:', len(os.listdir(test_safe_dir)))"
   ]
  },
  {
   "cell_type": "markdown",
   "metadata": {},
   "source": [
    "So we have indeed 2400 training images, and then 1200 validation images and 1200 test images. In each split, there is the same number of samples from each class: this is a balanced binary classification problem, which means that classification accuracy will be an appropriate measure of success."
   ]
  },
  {
   "cell_type": "markdown",
   "metadata": {},
   "source": [
    "## Building our network\n",
    "\n",
    "Since we are only looking at two clasess, texting and safe driving, we end the network with a single unit (*Dense* layer, size 1) and a *sigmoid* activation.  This will encode the probability that the network is looking at one class or the other."
   ]
  },
  {
   "cell_type": "code",
   "execution_count": 29,
   "metadata": {
    "collapsed": true
   },
   "outputs": [],
   "source": [
    "from keras import layers\n",
    "from keras import models\n",
    "\n",
    "model = models.Sequential()\n",
    "model.add(layers.Conv2D(32, (3, 3), activation='relu',input_shape=(150, 150, 3)))\n",
    "model.add(layers.MaxPooling2D((2, 2)))\n",
    "model.add(layers.Conv2D(64, (3, 3), activation='relu'))\n",
    "model.add(layers.MaxPooling2D((2, 2)))\n",
    "model.add(layers.Conv2D(128, (3, 3), activation='relu'))\n",
    "model.add(layers.MaxPooling2D((2, 2)))\n",
    "model.add(layers.Conv2D(128, (3, 3), activation='relu'))\n",
    "model.add(layers.MaxPooling2D((2, 2)))\n",
    "model.add(layers.Conv2D(96, (3, 3), activation='relu'))\n",
    "model.add(layers.MaxPooling2D((2, 2)))\n",
    "model.add(layers.Flatten())\n",
    "model.add(layers.Dense(512, activation='relu'))\n",
    "model.add(layers.Dense(1, activation='sigmoid'))"
   ]
  },
  {
   "cell_type": "markdown",
   "metadata": {},
   "source": [
    "Coming from TensorFlow, the setup above is incredibly simple.  And looking at the model structure is nice/really easy to confirm."
   ]
  },
  {
   "cell_type": "code",
   "execution_count": 30,
   "metadata": {},
   "outputs": [
    {
     "name": "stdout",
     "output_type": "stream",
     "text": [
      "_________________________________________________________________\n",
      "Layer (type)                 Output Shape              Param #   \n",
      "=================================================================\n",
      "conv2d_35 (Conv2D)           (None, 148, 148, 32)      896       \n",
      "_________________________________________________________________\n",
      "max_pooling2d_33 (MaxPooling (None, 74, 74, 32)        0         \n",
      "_________________________________________________________________\n",
      "conv2d_36 (Conv2D)           (None, 72, 72, 64)        18496     \n",
      "_________________________________________________________________\n",
      "max_pooling2d_34 (MaxPooling (None, 36, 36, 64)        0         \n",
      "_________________________________________________________________\n",
      "conv2d_37 (Conv2D)           (None, 34, 34, 128)       73856     \n",
      "_________________________________________________________________\n",
      "max_pooling2d_35 (MaxPooling (None, 17, 17, 128)       0         \n",
      "_________________________________________________________________\n",
      "conv2d_38 (Conv2D)           (None, 15, 15, 128)       147584    \n",
      "_________________________________________________________________\n",
      "max_pooling2d_36 (MaxPooling (None, 7, 7, 128)         0         \n",
      "_________________________________________________________________\n",
      "conv2d_39 (Conv2D)           (None, 5, 5, 96)          110688    \n",
      "_________________________________________________________________\n",
      "max_pooling2d_37 (MaxPooling (None, 2, 2, 96)          0         \n",
      "_________________________________________________________________\n",
      "flatten_6 (Flatten)          (None, 384)               0         \n",
      "_________________________________________________________________\n",
      "dense_11 (Dense)             (None, 512)               197120    \n",
      "_________________________________________________________________\n",
      "dense_12 (Dense)             (None, 1)                 513       \n",
      "=================================================================\n",
      "Total params: 549,153\n",
      "Trainable params: 549,153\n",
      "Non-trainable params: 0\n",
      "_________________________________________________________________\n"
     ]
    }
   ],
   "source": [
    "model.summary()"
   ]
  },
  {
   "cell_type": "markdown",
   "metadata": {},
   "source": [
    "Since this network ends with a single sigmoid unit, we will use binary crossentropy as our loss."
   ]
  },
  {
   "cell_type": "code",
   "execution_count": 31,
   "metadata": {
    "collapsed": true
   },
   "outputs": [],
   "source": [
    "from keras import optimizers\n",
    "\n",
    "model.compile(loss='binary_crossentropy',\n",
    "              optimizer=optimizers.RMSprop(lr=1e-4),\n",
    "              metrics=['acc'])"
   ]
  },
  {
   "cell_type": "markdown",
   "metadata": {},
   "source": [
    "## Data preprocessing\n",
    "\n",
    "* Read image file\n",
    "* Decode into RGB pixels\n",
    "* Convert to floating point tensors\n",
    "* Rescale the pixel values which are between 0 and 255 to a [0,1] interval"
   ]
  },
  {
   "cell_type": "code",
   "execution_count": 32,
   "metadata": {},
   "outputs": [
    {
     "name": "stdout",
     "output_type": "stream",
     "text": [
      "Found 2400 images belonging to 2 classes.\n",
      "Found 1200 images belonging to 2 classes.\n"
     ]
    }
   ],
   "source": [
    "from keras.preprocessing.image import ImageDataGenerator\n",
    "\n",
    "# All images will be rescaled by 1./255\n",
    "train_datagen = ImageDataGenerator(rescale=1./255)\n",
    "test_datagen = ImageDataGenerator(rescale=1./255)\n",
    "\n",
    "train_generator = train_datagen.flow_from_directory(\n",
    "        # This is the target directory\n",
    "        train_dir,\n",
    "        # All images will be resized to 150x150\n",
    "        target_size=(150, 150),\n",
    "        batch_size=20,\n",
    "        # Since we use binary_crossentropy loss, we need binary labels\n",
    "        class_mode='binary')\n",
    "\n",
    "validation_generator = test_datagen.flow_from_directory(\n",
    "        validation_dir,\n",
    "        target_size=(150, 150),\n",
    "        batch_size=20,\n",
    "        class_mode='binary')"
   ]
  },
  {
   "cell_type": "code",
   "execution_count": 33,
   "metadata": {
    "collapsed": true
   },
   "outputs": [],
   "source": [
    "from IPython.display import display\n",
    "from PIL import Image"
   ]
  },
  {
   "cell_type": "code",
   "execution_count": 34,
   "metadata": {},
   "outputs": [
    {
     "name": "stdout",
     "output_type": "stream",
     "text": [
      "('data batch shape:', (20, 150, 150, 3))\n",
      "('labels batch shape:', (20,))\n"
     ]
    }
   ],
   "source": [
    "for data_batch, labels_batch in train_generator:\n",
    "    print('data batch shape:', data_batch.shape)\n",
    "    print('labels batch shape:', labels_batch.shape)\n",
    "    break"
   ]
  },
  {
   "cell_type": "markdown",
   "metadata": {},
   "source": [
    "### Running the model "
   ]
  },
  {
   "cell_type": "code",
   "execution_count": 35,
   "metadata": {},
   "outputs": [
    {
     "name": "stdout",
     "output_type": "stream",
     "text": [
      "Epoch 1/30\n",
      "100/100 [==============================] - 16s 157ms/step - loss: 0.6802 - acc: 0.5855 - val_loss: 0.6402 - val_acc: 0.7710\n",
      "Epoch 2/30\n",
      "100/100 [==============================] - 14s 144ms/step - loss: 0.5481 - acc: 0.7635 - val_loss: 0.4277 - val_acc: 0.8580\n",
      "Epoch 3/30\n",
      "100/100 [==============================] - 15s 146ms/step - loss: 0.3357 - acc: 0.8695 - val_loss: 0.2961 - val_acc: 0.8760\n",
      "Epoch 4/30\n",
      "100/100 [==============================] - 15s 145ms/step - loss: 0.2261 - acc: 0.9165 - val_loss: 0.2388 - val_acc: 0.9020\n",
      "Epoch 5/30\n",
      "100/100 [==============================] - 15s 145ms/step - loss: 0.1203 - acc: 0.9645 - val_loss: 0.0996 - val_acc: 0.9650\n",
      "Epoch 6/30\n",
      "100/100 [==============================] - 14s 143ms/step - loss: 0.0813 - acc: 0.9765 - val_loss: 0.0651 - val_acc: 0.9830\n",
      "Epoch 7/30\n",
      "100/100 [==============================] - 15s 148ms/step - loss: 0.0676 - acc: 0.9785 - val_loss: 0.0389 - val_acc: 0.9850\n",
      "Epoch 8/30\n",
      "100/100 [==============================] - 15s 146ms/step - loss: 0.0477 - acc: 0.9855 - val_loss: 0.0322 - val_acc: 0.9910\n",
      "Epoch 9/30\n",
      "100/100 [==============================] - 15s 149ms/step - loss: 0.0347 - acc: 0.9900 - val_loss: 0.0182 - val_acc: 0.9960\n",
      "Epoch 10/30\n",
      "100/100 [==============================] - 15s 146ms/step - loss: 0.0257 - acc: 0.9930 - val_loss: 0.0187 - val_acc: 0.9930\n",
      "Epoch 11/30\n",
      "100/100 [==============================] - 15s 146ms/step - loss: 0.0220 - acc: 0.9920 - val_loss: 0.0170 - val_acc: 0.9940\n",
      "Epoch 12/30\n",
      "100/100 [==============================] - 14s 144ms/step - loss: 0.0153 - acc: 0.9930 - val_loss: 0.0115 - val_acc: 0.9970\n",
      "Epoch 13/30\n",
      "100/100 [==============================] - 14s 145ms/step - loss: 0.0202 - acc: 0.9950 - val_loss: 0.0166 - val_acc: 0.9920\n",
      "Epoch 14/30\n",
      "100/100 [==============================] - 14s 144ms/step - loss: 0.0116 - acc: 0.9960 - val_loss: 0.0102 - val_acc: 0.9960\n",
      "Epoch 15/30\n",
      "100/100 [==============================] - 14s 144ms/step - loss: 0.0088 - acc: 0.9970 - val_loss: 0.0135 - val_acc: 0.9950\n",
      "Epoch 16/30\n",
      "100/100 [==============================] - 15s 147ms/step - loss: 0.0113 - acc: 0.9965 - val_loss: 0.0110 - val_acc: 0.9960\n",
      "Epoch 17/30\n",
      "100/100 [==============================] - 14s 145ms/step - loss: 0.0068 - acc: 0.9990 - val_loss: 0.0065 - val_acc: 0.9990\n",
      "Epoch 18/30\n",
      "100/100 [==============================] - 15s 149ms/step - loss: 0.0119 - acc: 0.9960 - val_loss: 0.0230 - val_acc: 0.9940\n",
      "Epoch 19/30\n",
      "100/100 [==============================] - 14s 144ms/step - loss: 0.0061 - acc: 0.9980 - val_loss: 0.0108 - val_acc: 0.9950\n",
      "Epoch 20/30\n",
      "100/100 [==============================] - 15s 152ms/step - loss: 0.0084 - acc: 0.9970 - val_loss: 0.0107 - val_acc: 0.9970\n",
      "Epoch 21/30\n",
      "100/100 [==============================] - 15s 146ms/step - loss: 0.0069 - acc: 0.9980 - val_loss: 0.0141 - val_acc: 0.9970\n",
      "Epoch 22/30\n",
      "100/100 [==============================] - 15s 147ms/step - loss: 0.0028 - acc: 1.0000 - val_loss: 0.0149 - val_acc: 0.9950\n",
      "Epoch 23/30\n",
      "100/100 [==============================] - 14s 144ms/step - loss: 0.0026 - acc: 0.9995 - val_loss: 0.0086 - val_acc: 0.9960\n",
      "Epoch 24/30\n",
      "100/100 [==============================] - 15s 145ms/step - loss: 0.0020 - acc: 0.9990 - val_loss: 0.0059 - val_acc: 0.9980\n",
      "Epoch 25/30\n",
      "100/100 [==============================] - 15s 149ms/step - loss: 0.0013 - acc: 0.9990 - val_loss: 0.0079 - val_acc: 0.9970\n",
      "Epoch 26/30\n",
      "100/100 [==============================] - 15s 147ms/step - loss: 0.0046 - acc: 0.9985 - val_loss: 0.0030 - val_acc: 0.9980\n",
      "Epoch 27/30\n",
      "100/100 [==============================] - 14s 144ms/step - loss: 0.0011 - acc: 0.9995 - val_loss: 0.0240 - val_acc: 0.9910\n",
      "Epoch 28/30\n",
      "100/100 [==============================] - 14s 143ms/step - loss: 0.0067 - acc: 0.9985 - val_loss: 0.0146 - val_acc: 0.9930\n",
      "Epoch 29/30\n",
      "100/100 [==============================] - 15s 152ms/step - loss: 0.0025 - acc: 0.9990 - val_loss: 0.0071 - val_acc: 0.9980\n",
      "Epoch 30/30\n",
      "100/100 [==============================] - 15s 145ms/step - loss: 0.0043 - acc: 0.9985 - val_loss: 0.0043 - val_acc: 0.9980\n"
     ]
    }
   ],
   "source": [
    "#### AWS SETTINGSS ####\n",
    "history = model.fit_generator(\n",
    "      train_generator,\n",
    "      steps_per_epoch=100,\n",
    "      epochs=30,\n",
    "      validation_data=validation_generator,\n",
    "      validation_steps=50)\n",
    "\n",
    "#### LOCAL SETTINGS ####\n",
    "# history = model.fit_generator(\n",
    "#       train_generator,\n",
    "#       steps_per_epoch=20,\n",
    "#       epochs=10,\n",
    "#       validation_data=validation_generator,\n",
    "#       validation_steps=10)"
   ]
  },
  {
   "cell_type": "markdown",
   "metadata": {
    "collapsed": true
   },
   "source": [
    "Saving the model."
   ]
  },
  {
   "cell_type": "code",
   "execution_count": 36,
   "metadata": {
    "collapsed": true
   },
   "outputs": [],
   "source": [
    "model.save('texting_and_safe_driving_small_1.h5')"
   ]
  },
  {
   "cell_type": "markdown",
   "metadata": {},
   "source": [
    "Visualizing the loss and accuracy of the model over the training and validation data drugin training:"
   ]
  },
  {
   "cell_type": "code",
   "execution_count": 37,
   "metadata": {},
   "outputs": [
    {
     "data": {
      "image/png": "[encoded data removed]",
      "text/plain": [
       "<Figure size 432x288 with 1 Axes>"
      ]
     },
     "metadata": {},
     "output_type": "display_data"
    },
    {
     "data": {
      "image/png": "[encoded data removed]",
      "text/plain": [
       "<Figure size 432x288 with 1 Axes>"
      ]
     },
     "metadata": {},
     "output_type": "display_data"
    }
   ],
   "source": [
    "import matplotlib.pyplot as plt\n",
    "%matplotlib inline\n",
    "\n",
    "acc = history.history['acc']\n",
    "val_acc = history.history['val_acc']\n",
    "loss = history.history['loss']\n",
    "val_loss = history.history['val_loss']\n",
    "\n",
    "epochs = range(len(acc))\n",
    "\n",
    "plt.plot(epochs, acc, 'bo', label='Training acc')\n",
    "plt.plot(epochs, val_acc, 'b', label='Validation acc')\n",
    "plt.title('Training and validation accuracy')\n",
    "plt.legend()\n",
    "\n",
    "plt.figure()\n",
    "\n",
    "plt.plot(epochs, loss, 'bo', label='Training loss')\n",
    "plt.plot(epochs, val_loss, 'b', label='Validation loss')\n",
    "plt.title('Training and validation loss')\n",
    "plt.legend()\n",
    "\n",
    "plt.show()"
   ]
  },
  {
   "cell_type": "markdown",
   "metadata": {},
   "source": [
    "As you can see this fairly quicky-to-run model achieves almost 99% accuracy in classifying if a driver is distracted by texting or if their attention is on the road.  Pretty impressive!"
   ]
  },
  {
   "cell_type": "code",
   "execution_count": null,
   "metadata": {
    "collapsed": true
   },
   "outputs": [],
   "source": []
  }
 ],
 "metadata": {
  "kernelspec": {
   "display_name": "Python 3",
   "language": "python",
   "name": "python3"
  },
  "language_info": {
   "codemirror_mode": {
    "name": "ipython",
    "version": 3
   },
   "file_extension": ".py",
   "mimetype": "text/x-python",
   "name": "python",
   "nbconvert_exporter": "python",
   "pygments_lexer": "ipython3",
   "version": "3.6.1"
  }
 },
 "nbformat": 4,
 "nbformat_minor": 2
}
